{
 "cells": [
  {
   "cell_type": "markdown",
   "id": "c6a29764-f39c-431c-8e77-fbc6bfe20f01",
   "metadata": {},
   "source": [
    "# Demo\n",
    "\n",
    "The purpose of this notebook is to demonstrate the functionality of `gliderflightOG1`.\n",
    "\n",
    "The demo is organised to show\n",
    "\n",
    "- Step 1: Regressing the Seaglider steady flight model for chosen parameters\n",
    "\n",
    "- Step 2: Recalculating the glider flight using the flight model and chosen parameters\n",
    "\n"
   ]
  },
  {
   "cell_type": "code",
   "execution_count": null,
   "id": "6a1920f3",
   "metadata": {},
   "outputs": [],
   "source": [
    "\n",
    "import xarray as xr\n",
    "from gliderflightOG1 import plotters, tools\n",
    "import numpy as np\n",
    "from gliderflightOG1 import seaglider  # Assuming correct project style\n"
   ]
  },
  {
   "cell_type": "code",
   "execution_count": null,
   "id": "bb7592d5",
   "metadata": {},
   "outputs": [],
   "source": [
    "\n",
    "# 1. Load your dataset\n",
    "glider = xr.open_dataset('../data/sg014_20080214T220104_delayed.nc')\n",
    "glider = tools.calc_w_meas(glider)\n",
    "\n",
    "# 2. Rename and clean up fields as needed\n",
    "glider = glider.rename({\n",
    "    'VBD_CC': 'VBD',\n",
    "    'divenum': 'DIVENUM',\n",
    "})\n"
   ]
  },
  {
   "cell_type": "code",
   "execution_count": null,
   "id": "384b3ab6",
   "metadata": {},
   "outputs": [],
   "source": [
    "\n",
    "# 3. Add missing variables\n",
    "# a) Create UPDN from PITCH\n",
    "glider = glider.assign_coords(TIME=glider['TIME'])  # Make sure TIME is coordinate\n",
    "glider['UPDN'] = xr.where(glider['PITCH'] > 0, 1, -1)\n",
    "\n",
    "# b) Create VERTICAL_SPEED from dP/dt\n",
    "# Assume TIME is in seconds or known units\n",
    "\n",
    "\n",
    "# c) Create fake C_VBD\n",
    "glider['C_VBD'] = xr.zeros_like(glider['VBD'])\n"
   ]
  },
  {
   "cell_type": "code",
   "execution_count": null,
   "id": "92fb8d8b",
   "metadata": {},
   "outputs": [],
   "source": [
    "\n",
    "# d) Add starter attributes\n",
    "glider.attrs.update({\n",
    "    'hd_a': 0.0036,     # starting guess\n",
    "    'hd_b': 0.0098,     # starting guess\n",
    "    'hd_c': 0.0010,     # starting guess\n",
    "    'vbdbias': 0.0,     # start assuming no bias\n",
    "    'abs_compress': 4e-6, # reasonable guess\n",
    "    'therm_expan': 2e-5,  # reasonable guess\n",
    "    'rho0': 1025.0,     # typical seawater density\n",
    "    'vbd_min_cnts': 0.0,\n",
    "    'vbd_cnts_per_cc': 1.0,\n",
    "    'temp_ref': 10.0,\n",
    "    'volmax': 0.0,\n",
    "    'mass': 52.0,  # Approx mass of glider [kg]\n",
    "})\n",
    "\n",
    "# 4. Subselect a few dives to test\n",
    "dives_to_use = glider['DIVENUM'].values\n",
    "ensmat = dives_to_use[:20]  # first 20 dives for testing\n"
   ]
  },
  {
   "cell_type": "code",
   "execution_count": null,
   "id": "254dc998",
   "metadata": {},
   "outputs": [],
   "source": [
    "glider"
   ]
  },
  {
   "cell_type": "code",
   "execution_count": null,
   "id": "7a30ca0d",
   "metadata": {},
   "outputs": [],
   "source": [
    "\n",
    "# 5. Which parameters to optimize\n",
    "whichpar = [1, 1, 1, 0, 0, 0]  # solve for hd_a, hd_b, vbdbias\n",
    "\n",
    "# 6. Run the regression\n",
    "regressout, allwrms = seaglider.regress_all_vec(\n",
    "    whichpar=whichpar,\n",
    "    glider=glider,\n",
    "    whichone=10,  # Ramsey's method\n",
    "    ensmat=ensmat,\n",
    "    plotflag=False,\n",
    "    unstdyflag=0,\n",
    ")\n",
    "\n",
    "def renormalize_params(params, factors, direction='normalize'):\n",
    "    \"\"\"Renormalize parameters with given factors.\n",
    "\n",
    "    Parameters\n",
    "    ----------\n",
    "    params : np.ndarray\n",
    "        The parameters to transform. Expected order is\n",
    "        [hd_a, hd_b, vbdbias, abs_compress, therm_expan, hd_c].\n",
    "    factors : list or np.ndarray\n",
    "        The factors for renormalization.\n",
    "    direction : str, optional\n",
    "        'normalize' to divide by factors, 'denormalize' to multiply by factors.\n",
    "        Default is 'normalize'.\n",
    "\n",
    "    Returns\n",
    "    -------\n",
    "    np.ndarray\n",
    "        Transformed parameters.\n",
    "\n",
    "    Raises\n",
    "    ------\n",
    "    ValueError\n",
    "        If the direction is not 'normalize' or 'denormalize'.\n",
    "\n",
    "    \"\"\"\n",
    "    if direction == 'normalize':\n",
    "        return params * factors\n",
    "    elif direction == 'denormalize':\n",
    "        return params / factors\n",
    "    else:\n",
    "        raise ValueError(\"Direction must be 'normalize' or 'denormalize'.\")\n",
    "\n",
    "# Define renormalization factors\n",
    "factors = np.array([1e3, 1e3, 1, 1e6, 1e5, 1e5])\n",
    "\n",
    "# Create a vector of params from regressout with the same size as factors\n",
    "params = np.zeros_like(factors)\n",
    "params[np.array(whichpar, dtype=bool)] = regressout\n",
    "# Renormalize regressout\n",
    "#regressout_normalized = renormalize_params(regressout, factors, direction='normalize')\n",
    "regressout_norm = renormalize_params(params, factors, direction='denormalize')\n",
    "\n",
    "print(\"Optimized parameters:\", regressout_norm)\n",
    "print(\"Final WRMS:\", allwrms)\n",
    "\n"
   ]
  },
  {
   "cell_type": "code",
   "execution_count": null,
   "id": "e2d99f12",
   "metadata": {},
   "outputs": [],
   "source": [
    "if 0:\n",
    "    # And your glider dataset is called `glider`\n",
    "    plotters.plot_model_comparisons(\n",
    "        glider=glider,\n",
    "        models={\n",
    "            'steady': spd0,\n",
    "            'unsteady_lag': spd['unstdy_lag'],\n",
    "            'unsteady_ode': spd['unstdy_ode']\n",
    "        },\n",
    "        x_axis='TIME',\n",
    "        select_timerange=(glider['TIME'].values[0], glider['TIME'].values[100]),\n",
    "        variable='VERTICAL_SPEED',\n",
    "        label_variable='Observed Vertical Speed',\n",
    "        model_labels=['Flightvec0 (steady)', 'Flightvec_unstdy (lag)', 'Flightvec_unstdy (ODE)'],\n",
    "        title='Comparison of Glider Flight Models'\n",
    "    )"
   ]
  }
 ],
 "metadata": {
  "kernelspec": {
   "display_name": "venv",
   "language": "python",
   "name": "python3"
  },
  "language_info": {
   "codemirror_mode": {
    "name": "ipython",
    "version": 3
   },
   "file_extension": ".py",
   "mimetype": "text/x-python",
   "name": "python",
   "nbconvert_exporter": "python",
   "pygments_lexer": "ipython3",
   "version": "3.11.7"
  }
 },
 "nbformat": 4,
 "nbformat_minor": 5
}
